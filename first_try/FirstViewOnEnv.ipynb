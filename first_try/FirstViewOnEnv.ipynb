{
 "cells": [
  {
   "cell_type": "code",
   "execution_count": 1,
   "metadata": {},
   "outputs": [
    {
     "name": "stdout",
     "output_type": "stream",
     "text": [
      "reward range: (-inf, inf)\n",
      "action space: Box(8,)\n",
      "observation space: Box(111,)\n",
      "Creating window glfw\n",
      "Episode 1 finished after 20 timesteps\n",
      "Episode 2 finished after 28 timesteps\n",
      "Episode 3 finished after 92 timesteps\n",
      "Episode 4 finished after 99 timesteps\n",
      "Episode 5 finished after 35 timesteps\n",
      "Episode 6 finished after 27 timesteps\n",
      "Episode 9 finished after 45 timesteps\n",
      "Episode 11 finished after 80 timesteps\n",
      "Episode 13 finished after 81 timesteps\n",
      "Episode 14 finished after 82 timesteps\n",
      "Episode 15 finished after 71 timesteps\n",
      "Episode 18 finished after 54 timesteps\n",
      "Episode 19 finished after 82 timesteps\n",
      "Episode 20 finished after 69 timesteps\n"
     ]
    }
   ],
   "source": [
    "import mujoco_py\n",
    "import gym\n",
    "env = gym.make('Ant-v2')  # or 'Humanoid-v2' \n",
    "\n",
    "print('reward range: '+str(env.env.reward_range))\n",
    "print('action space: '+str(env.action_space))\n",
    "print('observation space: '+str(env.observation_space))\n",
    "\n",
    "env.render()\n",
    "\n",
    "for i_episode in range(20):\n",
    "    observation = env.reset()\n",
    "    for t in range(100):\n",
    "        env.render()\n",
    "        action = env.action_space.sample()\n",
    "        observation, reward, done, info = env.step(action)\n",
    "        if done:\n",
    "            print(\"Episode {} finished after {} timesteps\".format(i_episode+1, t+1))\n",
    "            break\n",
    "env.close()"
   ]
  },
  {
   "cell_type": "code",
   "execution_count": null,
   "metadata": {},
   "outputs": [],
   "source": []
  },
  {
   "cell_type": "code",
   "execution_count": null,
   "metadata": {},
   "outputs": [],
   "source": []
  },
  {
   "cell_type": "code",
   "execution_count": null,
   "metadata": {},
   "outputs": [],
   "source": []
  },
  {
   "cell_type": "code",
   "execution_count": null,
   "metadata": {},
   "outputs": [],
   "source": []
  }
 ],
 "metadata": {
  "kernelspec": {
   "display_name": "Python 3",
   "language": "python",
   "name": "python3"
  },
  "language_info": {
   "codemirror_mode": {
    "name": "ipython",
    "version": 3
   },
   "file_extension": ".py",
   "mimetype": "text/x-python",
   "name": "python",
   "nbconvert_exporter": "python",
   "pygments_lexer": "ipython3",
   "version": "3.6.10"
  }
 },
 "nbformat": 4,
 "nbformat_minor": 2
}
