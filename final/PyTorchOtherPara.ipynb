{
 "cells": [
  {
   "cell_type": "code",
   "execution_count": 1,
   "metadata": {},
   "outputs": [],
   "source": [
    "import multiprocessing\n",
    "import os\n",
    "\n",
    "import neat\n",
    "\n",
    "import torch\n",
    "import numpy as np\n",
    "\n",
    "import gym\n",
    "import pybullet_envs\n",
    "import neat\n",
    "import pickle\n",
    "import random\n",
    "import signal\n",
    "import matplotlib.pyplot as plt\n",
    "import time\n",
    "\n",
    "from pytorch_neat.recurrent_net import RecurrentNet\n",
    "from pytorch_neat.multi_env_eval import MultiEnvEvaluator\n",
    "from pytorch_neat.neat_reporter import LogReporter\n",
    "\n",
    "batch_size = 4\n",
    "DEBUG = True"
   ]
  },
  {
   "cell_type": "code",
   "execution_count": 2,
   "metadata": {},
   "outputs": [],
   "source": [
    "def make_env():\n",
    "    return gym.make('AntBulletEnv-v0')\n",
    "\n",
    "\n",
    "def make_net(genome, config, bs):\n",
    "    return RecurrentNet.create(genome, config, bs)\n",
    "\n",
    "\n",
    "def activate_net(net, states):\n",
    "    outputs = net.activate(states).numpy()\n",
    "    return outputs\n",
    "\n",
    "def run(n_generations, n_processes):\n",
    "    # Load the config file, which is assumed to live in\n",
    "    # the same directory as this script.\n",
    "    config_path = \"data/config-humanoid\"\n",
    "    config = neat.Config(\n",
    "        neat.DefaultGenome,\n",
    "        neat.DefaultReproduction,\n",
    "        neat.DefaultSpeciesSet,\n",
    "        neat.DefaultStagnation,\n",
    "        config_path,\n",
    "    )\n",
    "    \n",
    "    evaluator = MultiEnvEvaluator(make_net, activate_net, make_env=make_env, max_env_steps=1000)\n",
    "    \n",
    "    pop = neat.Population(config)\n",
    "    stats = neat.StatisticsReporter()\n",
    "    pop.add_reporter(stats)\n",
    "    reporter = neat.StdOutReporter(True)\n",
    "    pop.add_reporter(reporter)\n",
    "    pop.add_reporter(neat.Checkpointer(1, None, \"saves/robotic_pytorch_checkpoint_\"))\n",
    "\n",
    "    if n_processes > 1:\n",
    "        pool = multiprocessing.Pool(processes=n_processes)\n",
    "\n",
    "        def eval_genomes(genomes, config):\n",
    "            fitnesses = pool.starmap(\n",
    "                evaluator.eval_genome, ((genome, config) for _, genome in genomes)\n",
    "            )\n",
    "            for (_, genome), fitness in zip(genomes, fitnesses):\n",
    "                genome.fitness = fitness\n",
    "\n",
    "    else:\n",
    "\n",
    "        def eval_genomes(genomes, config):\n",
    "            for i, (_, genome) in enumerate(genomes):\n",
    "                try:\n",
    "                    genome.fitness = evaluator.eval_genome(\n",
    "                        genome, config, debug=DEBUG and i % 100 == 0\n",
    "                    )\n",
    "                except Exception as e:\n",
    "                    print(genome)\n",
    "                    raise e\n",
    "\n",
    "    \n",
    "\n",
    "    winner = pop.run(eval_genomes)\n",
    "\n",
    "    with open('winnerParaTorchAnt.pkl', 'wb') as output:\n",
    "        pickle.dump(winner, output, 1)\n",
    "    \n",
    "    print(winner)\n",
    "    final_performance = evaluator.eval_genome(winner, config)\n",
    "    print(\"Final performance: {}\".format(final_performance))\n",
    "    generations = reporter.generation + 1\n",
    "    return generations"
   ]
  },
  {
   "cell_type": "code",
   "execution_count": null,
   "metadata": {},
   "outputs": [],
   "source": [
    "gens = run(5,8)\n",
    "print('gens: '+str(gens))"
   ]
  },
  {
   "cell_type": "code",
   "execution_count": 3,
   "metadata": {},
   "outputs": [
    {
     "name": "stdout",
     "output_type": "stream",
     "text": [
      "<neat.population.Population object at 0x7f69b8b7c0b8>\n"
     ]
    }
   ],
   "source": [
    "popu = neat.Checkpointer.restore_checkpoint(\"saves/robotic_pytorch_checkpoint_245\")\n",
    "print(popu)"
   ]
  },
  {
   "cell_type": "code",
   "execution_count": null,
   "metadata": {},
   "outputs": [],
   "source": []
  }
 ],
 "metadata": {
  "kernelspec": {
   "display_name": "Python 3",
   "language": "python",
   "name": "python3"
  },
  "language_info": {
   "codemirror_mode": {
    "name": "ipython",
    "version": 3
   },
   "file_extension": ".py",
   "mimetype": "text/x-python",
   "name": "python",
   "nbconvert_exporter": "python",
   "pygments_lexer": "ipython3",
   "version": "3.7.3"
  }
 },
 "nbformat": 4,
 "nbformat_minor": 4
}
