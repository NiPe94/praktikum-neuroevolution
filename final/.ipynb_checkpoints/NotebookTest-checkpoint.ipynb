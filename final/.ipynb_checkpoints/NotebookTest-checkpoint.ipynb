{
 "cells": [
  {
   "cell_type": "code",
   "execution_count": null,
   "metadata": {},
   "outputs": [],
   "source": [
    "# Description\n",
    "# Simple Template to learn Atari agent\n",
    "# env.action_space"
   ]
  },
  {
   "cell_type": "code",
   "execution_count": null,
   "metadata": {},
   "outputs": [],
   "source": [
    "def eval_genomes(genomes, config):\n",
    "        \n",
    "\n",
    "    for genome_id, genome in genomes:\n",
    "        ob = env.reset()\n",
    "\n",
    "        net = neat.nn.recurrent.RecurrentNetwork.create(genome, config)\n",
    "        \n",
    "        current_max_fitness = 0\n",
    "        fitness_current = 0\n",
    "        frame = 0\n",
    "        counter = 0\n",
    "\n",
    "        finallyCounter = 1000\n",
    "        \n",
    "        done = False\n",
    "\n",
    "\n",
    "        while not done:\n",
    "            \n",
    "            frame += 1\n",
    "            \n",
    "            env.render()\n",
    "\n",
    "            nnOutput = net.activate(ob)\n",
    "            \n",
    "            ob, rew, done, info = env.step(nnOutput)\n",
    "            \n",
    "            fitness_current += rew\n",
    "            \n",
    "            if fitness_current > current_max_fitness:\n",
    "                current_max_fitness = fitness_current\n",
    "                counter = 0\n",
    "            else:\n",
    "                counter += 1\n",
    "                \n",
    "            finalReached = (counter==finallyCounter)\n",
    "                \n",
    "            if done or finalReached:\n",
    "                done = True\n",
    "                print('id: '+str(genome_id)+' fitness: '+str(fitness_current)+' counter: '+str(counter))\n",
    "                \n",
    "            genome.fitness = fitness_current"
   ]
  },
  {
   "cell_type": "code",
   "execution_count": null,
   "metadata": {},
   "outputs": [],
   "source": [
    "## import gym\n",
    "import numpy as np\n",
    "import cv2\n",
    "import neat\n",
    "import pickle\n",
    "import gym\n",
    "import pybullet_envs\n",
    "import random\n",
    "\n",
    "import matplotlib.pyplot as plt\n",
    "import matplotlib.image as mpimg\n",
    "\n",
    "random.seed(0)\n",
    "env = gym.make('AntBulletEnv-v0')\n",
    "env.seed(0)\n",
    "ob = env.reset()\n",
    "\n",
    "resume = False\n",
    "config = neat.Config(neat.DefaultGenome, neat.DefaultReproduction,\n",
    "                     neat.DefaultSpeciesSet, neat.DefaultStagnation,\n",
    "                     'data/config-humanoid')\n",
    "p = neat.Population(config)\n",
    "p.add_reporter(neat.StdOutReporter(True))\n",
    "stats = neat.StatisticsReporter()\n",
    "p.add_reporter(stats)\n",
    "\n",
    "print('action space: '+str(env.action_space))\n",
    "print('observation space: '+str(env.observation_space))"
   ]
  },
  {
   "cell_type": "code",
   "execution_count": null,
   "metadata": {},
   "outputs": [],
   "source": [
    "winner = p.run(eval_genomes)\n",
    "with open('winner.pkl', 'wb') as output:\n",
    "    pickle.dump(winner, output, 1)"
   ]
  },
  {
   "cell_type": "code",
   "execution_count": null,
   "metadata": {},
   "outputs": [],
   "source": []
  },
  {
   "cell_type": "code",
   "execution_count": null,
   "metadata": {},
   "outputs": [],
   "source": []
  },
  {
   "cell_type": "code",
   "execution_count": null,
   "metadata": {},
   "outputs": [],
   "source": []
  }
 ],
 "metadata": {
  "kernelspec": {
   "display_name": "Python 3",
   "language": "python",
   "name": "python3"
  },
  "language_info": {
   "codemirror_mode": {
    "name": "ipython",
    "version": 3
   },
   "file_extension": ".py",
   "mimetype": "text/x-python",
   "name": "python",
   "nbconvert_exporter": "python",
   "pygments_lexer": "ipython3",
   "version": "3.7.3"
  }
 },
 "nbformat": 4,
 "nbformat_minor": 4
}
