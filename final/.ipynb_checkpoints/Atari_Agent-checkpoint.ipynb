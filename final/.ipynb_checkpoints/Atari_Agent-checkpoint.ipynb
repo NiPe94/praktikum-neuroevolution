{
 "cells": [
  {
   "cell_type": "code",
   "execution_count": null,
   "metadata": {},
   "outputs": [],
   "source": [
    "# Description\n",
    "# A parallel learning Template to learn an Atari agent"
   ]
  },
  {
   "cell_type": "code",
   "execution_count": null,
   "metadata": {},
   "outputs": [],
   "source": [
    "class Worker(object):\n",
    "    def __init__(self, genome, config):\n",
    "        self.genome = genome\n",
    "        self.config = config\n",
    "        \n",
    "    def work(self):\n",
    "    \n",
    "        def preprocess_observation(ob):\n",
    "            ob = cv2.resize(ob, (32, 42))\n",
    "            ob = cv2.cvtColor(ob, cv2.COLOR_BGR2GRAY)\n",
    "            return ob\n",
    "        \n",
    "        self.env = gym.make('Atlantis-v0')\n",
    "        self.env.seed(0)\n",
    "        self.env.reset()\n",
    "        \n",
    "        ac = self.env.action_space.sample()\n",
    "\n",
    "        #inx, iny, inc = self.env.observation_space.shape\n",
    "        \n",
    "        ob, _, _, _ = self.env.step(ac)\n",
    "\n",
    "        #inx = int(ob.shape[0]/8)\n",
    "        #iny = int(ob.shape[1]/8)\n",
    "        done = False\n",
    "\n",
    "        net = neat.nn.recurrent.RecurrentNetwork.create(self.genome, self.config)\n",
    "        \n",
    "        current_max_fitness = 0\n",
    "        fitness_current = 0\n",
    "        frame = 0\n",
    "        counter = 0\n",
    "        \n",
    "        finallyCounter = 5000\n",
    "\n",
    "        while not done:\n",
    "            \n",
    "            frame += 1\n",
    "            \n",
    "            ob = preprocess_observation(ob)\n",
    "\n",
    "            imgarray = np.ndarray.flatten(ob)\n",
    "\n",
    "            nnOutput = net.activate(imgarray)\n",
    "            \n",
    "            numerical_input = nnOutput.index(max(nnOutput))\n",
    "            ob, rew, done, info = self.env.step(numerical_input)\n",
    "            \n",
    "            fitness_current += rew\n",
    "            \n",
    "            if fitness_current > current_max_fitness:\n",
    "                current_max_fitness = fitness_current\n",
    "                counter = 0\n",
    "            else:\n",
    "                counter += 1\n",
    "\n",
    "            finalReached = (counter>=finallyCounter)\n",
    "            \n",
    "                \n",
    "            if done or finalReached:\n",
    "                done = True\n",
    "                once = True\n",
    "                print('fitness: '+str(fitness_current)+' counter: '+str(counter))\n",
    "                \n",
    "        return fitness_current"
   ]
  },
  {
   "cell_type": "code",
   "execution_count": null,
   "metadata": {},
   "outputs": [],
   "source": [
    "def eval_genomes(genome, config):\n",
    "    worky = Worker(genome, config)\n",
    "    return worky.work()\n",
    "        "
   ]
  },
  {
   "cell_type": "code",
   "execution_count": null,
   "metadata": {},
   "outputs": [],
   "source": [
    "import gym\n",
    "import numpy as np\n",
    "import cv2\n",
    "import neat\n",
    "import pickle\n",
    "import random\n",
    "\n",
    "import matplotlib.pyplot as plt\n",
    "import matplotlib.image as mpimg\n",
    "\n",
    "random.seed(0)\n",
    "\n",
    "imgarray = []\n",
    "resume = False\n",
    "config = neat.Config(neat.DefaultGenome, neat.DefaultReproduction,\n",
    "                     neat.DefaultSpeciesSet, neat.DefaultStagnation,\n",
    "                     'data/config-atari')\n",
    "p = neat.Population(config)\n",
    "p.add_reporter(neat.StdOutReporter(True))\n",
    "p.add_reporter(neat.StatisticsReporter())\n",
    "p.add_reporter(neat.Checkpointer(1, None, \"saves/atari_checkpoint_\"))"
   ]
  },
  {
   "cell_type": "code",
   "execution_count": null,
   "metadata": {},
   "outputs": [],
   "source": [
    "pe = neat.ParallelEvaluator(8, eval_genomes)\n",
    "\n",
    "winner = p.run(pe.evaluate)\n",
    "\n",
    "with open('winner.pkl', 'wb') as output:\n",
    "    pickle.dump(winner, output, 1)"
   ]
  },
  {
   "cell_type": "code",
   "execution_count": null,
   "metadata": {},
   "outputs": [],
   "source": []
  },
  {
   "cell_type": "code",
   "execution_count": null,
   "metadata": {},
   "outputs": [],
   "source": []
  }
 ],
 "metadata": {
  "kernelspec": {
   "display_name": "Python 3",
   "language": "python",
   "name": "python3"
  },
  "language_info": {
   "codemirror_mode": {
    "name": "ipython",
    "version": 3
   },
   "file_extension": ".py",
   "mimetype": "text/x-python",
   "name": "python",
   "nbconvert_exporter": "python",
   "pygments_lexer": "ipython3",
   "version": "3.7.3"
  }
 },
 "nbformat": 4,
 "nbformat_minor": 4
}
